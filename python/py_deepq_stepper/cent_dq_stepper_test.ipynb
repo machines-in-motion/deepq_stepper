{
 "cells": [
  {
   "cell_type": "code",
   "execution_count": 1,
   "metadata": {},
   "outputs": [],
   "source": [
    "# This code tests the trained 3d dq stepper\n",
    "import numpy as np\n",
    "import random\n",
    "\n",
    "import torch\n",
    "import torch.nn as nn\n",
    "import torch.optim as optim\n",
    "import torch.nn.functional as F\n",
    "\n",
    "#for live plotting\n",
    "from IPython.display import clear_output\n",
    "from matplotlib import pyplot as plt\n",
    "%matplotlib inline\n",
    "\n",
    "%run cent_env.ipynb #imports LIPM Env"
   ]
  },
  {
   "cell_type": "code",
   "execution_count": 2,
   "metadata": {},
   "outputs": [],
   "source": [
    "# Lipm - 8 layers , 512 each\n",
    "class NN(nn.Module):\n",
    "    def __init__(self, inp_size, out_size):\n",
    "        \n",
    "        super(NN, self).__init__()\n",
    "        self.l1 = nn.Linear(inp_size, 512)\n",
    "        self.l2 = nn.Linear(512, 512)\n",
    "        self.l3 = nn.Linear(512, 512)\n",
    "        self.l4 = nn.Linear(512, 512)\n",
    "        self.l5 = nn.Linear(512, 512)\n",
    "        self.l6 = nn.Linear(512, 512)\n",
    "        self.l7 = nn.Linear(512, 512)\n",
    "        self.l8 = nn.Linear(512, out_size)\n",
    "    \n",
    "    def forward(self, x):\n",
    "        \n",
    "        x = F.relu(self.l1(x))\n",
    "        x = F.relu(self.l2(x))\n",
    "        x = F.relu(self.l3(x))\n",
    "        x = F.relu(self.l4(x))\n",
    "        x = F.relu(self.l5(x))\n",
    "        x = F.relu(self.l6(x))\n",
    "        x = F.relu(self.l7(x))\n",
    "        x = self.l8(x)\n",
    "        return x"
   ]
  },
  {
   "cell_type": "code",
   "execution_count": 3,
   "metadata": {},
   "outputs": [],
   "source": [
    "class DQStepper:\n",
    "    def __init__(self, env, lr = 1e-4, gamma = 0.9, use_tarnet = False, trained_model = None):\n",
    "        '''\n",
    "        This is a 3d dq stepper.\n",
    "        State = [x-ux, y-uy, z-uz, xd, yd, n, action_x, action_y, action_z]\n",
    "        '''\n",
    "        self.device = torch.device(\"cpu\")\n",
    "        self.dq_stepper = NN(11, 1).to(self.device) #state+ action -> q_value\n",
    "        if trained_model:\n",
    "            self.dq_stepper.load_state_dict(torch.load(trained_model))\n",
    "            self.dq_stepper.eval()\n",
    "        self.optimizer = torch.optim.SGD(self.dq_stepper.parameters(), lr)\n",
    "        self.use_tarnet = use_tarnet\n",
    "        if self.use_tarnet:\n",
    "            self.dq_tar_stepper = NN(11, 1).to(self.device)\n",
    "            self.dq_tar_stepper.load_state_dict(self.dq_stepper.state_dict())\n",
    "            self.dq_tar_stepper.eval()\n",
    "        self.gamma = gamma #discount factor\n",
    "        self.no_actions = env.no_actions\n",
    "        \n",
    "        # This is the template of x_in that goes into the dq stepper\n",
    "        self.max_step_height = 0.00\n",
    "        self.max_no = 5 #number of actions with non zero step in z\n",
    "        self.x_in = np.zeros((self.no_actions[0]*self.no_actions[1], 11))\n",
    "        self.x_in[:,8] = np.tile(np.arange(self.no_actions[0]), self.no_actions[1])\n",
    "        self.x_in[:,9] = np.repeat(np.arange(self.no_actions[1]), self.no_actions[0])\n",
    "        \n",
    "    def predict_action_value(self, x):\n",
    "        # this function predicts the q_value for different actions and returns action and min q value\n",
    "        self.x_in[:,[0, 1, 2, 3, 4, 5, 6, 7]] = x\n",
    "        for e in np.random.randint(0, len(self.x_in), self.max_no):\n",
    "            self.x_in[e, 10] = 2*self.max_step_height*(np.random.rand() - 0.5)\n",
    "        torch_x_in = torch.FloatTensor(self.x_in, device = self.device)\n",
    "        with torch.no_grad():\n",
    "            q_values = self.dq_stepper(torch_x_in).detach().numpy()\n",
    "            action_index = np.argmin(q_values)\n",
    "            action_x = int(action_index%self.no_actions[0])\n",
    "            action_y = int(action_index//self.no_actions[0])\n",
    "            action_z = self.x_in[action_index,10]\n",
    "        return [action_x, action_y, action_z], q_values[action_index]\n",
    "    \n",
    "    def tar_predict_action_value(self, x):\n",
    "        # this function uses tar net to predict \n",
    "        # the q_value for different actions and returns action and min q value\n",
    "        self.x_in[:,[0, 1, 2, 3, 4, 5, 6, 7]] = x\n",
    "        for e in np.random.randint(0, len(self.x_in), self.max_no):\n",
    "            self.x_in[e, 10] = 2*self.max_step_height*(np.random.rand() - 0.5)\n",
    "        torch_x_in = torch.FloatTensor(self.x_in, device = self.device)\n",
    "        with torch.no_grad():\n",
    "            q_values = self.dq_tar_stepper(torch_x_in).detach().numpy()\n",
    "            action_index = np.argmin(q_values)\n",
    "            action_x = int(action_index%self.no_actions[0])\n",
    "            action_y = int(action_index//self.no_actions[0])\n",
    "            action_z = self.x_in[action_index,10]\n",
    "        return [action_x, action_y, action_z], q_values[action_index]\n",
    "    \n",
    "    def predict_eps_greedy(self, x, eps = 0.1):\n",
    "        # This function returns prediction based on epsillon greedy algorithm\n",
    "        if np.random.random() > eps:\n",
    "            return self.predict_action_value(x)[0]\n",
    "        else:\n",
    "            action_x = np.random.randint(self.no_actions[0])\n",
    "            action_y = np.random.randint(self.no_actions[1])\n",
    "            action_z = 2*self.max_step_height*(np.random.rand() - 0.5)\n",
    "            \n",
    "        return [action_x, action_y, action_z]\n",
    "        \n",
    "    def optimize(self, mini_batch, tau = 0.001):\n",
    "        # This function performs one step of back propogation for the given mini_batch data\n",
    "        x_in = torch.FloatTensor(mini_batch[:,0:11].copy(), device = self.device)\n",
    "        y_train = torch.FloatTensor(mini_batch[:,11].copy(), device = self.device)\n",
    "        for i in range(len(mini_batch)):\n",
    "            if not np.isnan(mini_batch[i,12:]).all():\n",
    "                if not self.use_tarnet:\n",
    "                    y_train[i] += self.gamma * self.predict_action_value(mini_batch[i,12:])[1]\n",
    "                else:\n",
    "                    y_train[i] += self.gamma * self.tar_predict_action_value(mini_batch[i,12:])[1]\n",
    "\n",
    "        y_train = y_train.unsqueeze(1).detach() #ensures that gradients are not computed on this\n",
    "        x_train = self.dq_stepper(x_in)\n",
    "\n",
    "        loss = F.mse_loss(x_train, y_train)\n",
    "        self.optimizer.zero_grad()\n",
    "        loss.backward()\n",
    "        self.optimizer.step()\n",
    "        \n",
    "        if self.use_tarnet:\n",
    "            for tar_param, param in zip(self.dq_tar_stepper.parameters(), self.dq_stepper.parameters()):\n",
    "                tar_param.data.copy_(tar_param.data * (1.0 - tau) + param.data * tau)\n",
    "                \n",
    "        return loss\n",
    "    \n",
    "    def live_plot(self, history, e, figsize=(15,25), window = 500, title='history'):\n",
    "        clear_output(wait=True)\n",
    "        fig, ax = plt.subplots(3, 1, figsize=figsize)\n",
    "        ax[0].plot(history['epi_cost'], label='epi_cost', color = 'orange')\n",
    "        ax[0].grid(True)\n",
    "        ax[0].legend() # the plot evolves to the right\n",
    "        if e > window:\n",
    "            ax[1].plot(np.arange(e-window+1, e), history['epi_cost'][e-window:], label='epi_cost zoom')\n",
    "            ax[1].grid(True)\n",
    "            ax[1].legend() # the plot evolves to the right\n",
    "        ax[2].plot(history['loss'], label='loss', color = 'black')\n",
    "        ax[2].grid(True)\n",
    "        ax[2].legend() # the plot evolves to the right\n",
    "        ax[2].set_ylim(0, 60)\n",
    "        plt.xlabel('episode')\n",
    "        plt.show();\n",
    "        \n",
    "    def predict_q(self, x, terrain):\n",
    "        #for debugging\n",
    "        # this function predicts the q_value for different actions and returns action and min q value\n",
    "        self.x_in[:,[0, 1, 2, 3, 4, 5, 6, 7]] = x\n",
    "        self.x_in[:,10] = terrain\n",
    "        torch_x_in = torch.FloatTensor(self.x_in, device = self.device)\n",
    "        with torch.no_grad():\n",
    "            q_values = self.dq_stepper(torch_x_in).detach().numpy()\n",
    "            action_index = np.argmin(q_values)\n",
    "            action_x = int(action_index%self.no_actions[0])\n",
    "            action_y = int(action_index//self.no_actions[0])\n",
    "            action_z = self.x_in[action_index,10]\n",
    "            \n",
    "        return q_values, [action_x, action_y, action_z] "
   ]
  },
  {
   "cell_type": "code",
   "execution_count": 19,
   "metadata": {},
   "outputs": [],
   "source": [
    "ht = 0.25\n",
    "step_time = 0.1\n",
    "air_time = 0.1\n",
    "env = CentEnv(ht, 0., 0.6, [0.0, 0, 1.0], [11,8])\n",
    "dqs = DQStepper(env, lr=1e-4, gamma=0.98, use_tarnet= True, trained_model='../../models/dqs_1')"
   ]
  },
  {
   "cell_type": "code",
   "execution_count": 20,
   "metadata": {
    "scrolled": false
   },
   "outputs": [
    {
     "name": "stdout",
     "output_type": "stream",
     "text": [
      "[2, 3, 0.0] 0.49 False [-1.  0.]\n",
      "[3, 7, 0.0] 100.54 True [-0.74374567 -0.6895375 ]\n",
      "101.03\n",
      "showing episode...\n"
     ]
    }
   ],
   "source": [
    "no_steps = 10 ## number of steps simulated per episode (pendulum steps)\n",
    "\n",
    "v_des = [0.0, 0]\n",
    "v_init = [-1.0, 0.0]\n",
    "state = env.reset_env([0.0, 0.0, ht, v_init[0], v_init[1], 0.0], v_des, no_steps*(2*step_time + air_time))\n",
    "epi_cost = 0\n",
    "for n in range(no_steps):\n",
    "    terrain = 0.0\n",
    "    action = dqs.predict_q(state, terrain)[1]\n",
    "    next_state, cost, done = env.step_env(action, step_time, air_time)\n",
    "    print(action, cost, done, state[3:5])\n",
    "    epi_cost += cost\n",
    "    state = next_state\n",
    "    if done:\n",
    "        print(epi_cost)\n",
    "        break\n",
    "print(\"showing episode...\")\n",
    "# env.show_episode(5)\n",
    "# env.show_episode_side(5)"
   ]
  },
  {
   "cell_type": "code",
   "execution_count": 16,
   "metadata": {},
   "outputs": [
    {
     "data": {
      "text/plain": [
       "[<matplotlib.lines.Line2D at 0x7f5046caaf28>]"
      ]
     },
     "execution_count": 16,
     "metadata": {},
     "output_type": "execute_result"
    },
    {
     "data": {
      "image/png": "[encoded data removed]",
      "text/plain": [
       "<Figure size 432x288 with 1 Axes>"
      ]
     },
     "metadata": {
      "needs_background": "light"
     },
     "output_type": "display_data"
    }
   ],
   "source": [
    "plt.plot(env.sim_data[0])"
   ]
  }
 ],
 "metadata": {
  "kernelspec": {
   "display_name": "Python 3",
   "language": "python",
   "name": "python3"
  },
  "language_info": {
   "codemirror_mode": {
    "name": "ipython",
    "version": 3
   },
   "file_extension": ".py",
   "mimetype": "text/x-python",
   "name": "python",
   "nbconvert_exporter": "python",
   "pygments_lexer": "ipython3",
   "version": "3.6.9"
  }
 },
 "nbformat": 4,
 "nbformat_minor": 2
}
