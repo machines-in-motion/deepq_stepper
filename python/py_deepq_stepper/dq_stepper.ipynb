{
 "cells": [
  {
   "cell_type": "code",
   "execution_count": 2,
   "metadata": {},
   "outputs": [],
   "source": [
    "import numpy as np\n",
    "import random\n",
    "\n",
    "import torch\n",
    "import torch.nn as nn\n",
    "import torch.optim as optim\n",
    "import torch.nn.functional as F\n",
    "\n",
    "#for live plotting\n",
    "from IPython.display import clear_output\n",
    "from matplotlib import pyplot as plt\n",
    "%matplotlib inline\n",
    "\n",
    "%run lipm_env.ipynb #imports LIPM Env"
   ]
  },
  {
   "cell_type": "code",
   "execution_count": 3,
   "metadata": {},
   "outputs": [],
   "source": [
    "class Buffer:\n",
    "    def __init__(self, buffer_size):\n",
    "        \n",
    "        self.buffer_size = buffer_size\n",
    "        self.buffer = np.zeros((1, 2 + 1 + 1 + 2)) ## should be made variables\n",
    "        \n",
    "    def size(self):\n",
    "        \n",
    "        return len(self.buffer)\n",
    "    \n",
    "    def store(self, state, action, reward, next_state, done):\n",
    "        ## stores new data in the buffer\n",
    "        new_data = 9999*np.ones((1, 2 + 1 + 1 + 2))\n",
    "        new_data[0, 0:2] = state\n",
    "        new_data[0, 2:4] = [action, reward]\n",
    "        if not done:\n",
    "            new_data[0, 4:] = next_state \n",
    "        else:\n",
    "            new_data[0, 4:] = [np.nan, np.nan]\n",
    "        self.buffer = np.concatenate((self.buffer, np.around(new_data, 2)), axis = 0)\n",
    "        \n",
    "        #removes the first element if it is zero.\n",
    "        if np.all(self.buffer[0] == 0):\n",
    "            self.buffer = self.buffer[1:]\n",
    "            \n",
    "        # removes first element if the desired buffer size is obtained\n",
    "        elif self.size() > self.buffer_size:\n",
    "            self.buffer = self.buffer[1:]\n",
    "            \n",
    "    def sample(self, batch_size):\n",
    "        # returns a random mini batch of desired batch size\n",
    "        return np.asarray(random.sample(list(self.buffer), batch_size))"
   ]
  },
  {
   "cell_type": "code",
   "execution_count": 4,
   "metadata": {},
   "outputs": [],
   "source": [
    "class NN(nn.Module):\n",
    "    def __init__(self, inp_size, out_size):\n",
    "        \n",
    "        super(NN, self).__init__()\n",
    "        self.l1 = nn.Linear(inp_size, 1024)\n",
    "        self.l2 = nn.Linear(1024, 1024)\n",
    "        self.l3 = nn.Linear(1024, out_size)\n",
    "    \n",
    "    def forward(self, x):\n",
    "        \n",
    "        x = F.relu(self.l1(x))\n",
    "        x = F.relu(self.l2(x))\n",
    "        x = self.l3(x)\n",
    "        return x"
   ]
  },
  {
   "cell_type": "code",
   "execution_count": 5,
   "metadata": {},
   "outputs": [],
   "source": [
    "class DQStepper:\n",
    "    def __init__(self, no_actions = 9, lr = 1e-4, gamma = 0.9, use_tarnet = False):\n",
    "        \n",
    "        self.device = torch.device(\"cpu\")\n",
    "        self.dq_stepper = NN(3, 1).to(self.device) #state+ action -> q_value\n",
    "        self.optimizer = torch.optim.SGD(self.dq_stepper.parameters(), lr)\n",
    "        self.use_tarnet = use_tarnet\n",
    "        if self.use_tarnet:\n",
    "            self.dq_tar_stepper = NN(3, 1).to(self.device)\n",
    "            self.dq_tar_stepper.load_state_dict(self.dq_stepper.state_dict())\n",
    "            self.dq_tar_stepper.eval()\n",
    "        self.gamma = gamma #discount factor\n",
    "        self.no_actions = no_actions\n",
    "                \n",
    "    def predict_action_value(self, x):\n",
    "        # this function predicts the q_value for different actions and returns action and min q value\n",
    "        x_in = np.tile([x[0], x[1], 0], (self.no_actions, 1))\n",
    "        x_in[:,2] = np.arange(self.no_actions)\n",
    "        torch_x_in = torch.FloatTensor(x_in, device = self.device)\n",
    "        with torch.no_grad():\n",
    "            q_values = self.dq_stepper(torch_x_in).detach().numpy()\n",
    "        return np.argmin(q_values), q_values[np.argmin(q_values)]\n",
    "    \n",
    "    def tar_predict_action_value(self, x):\n",
    "        # this function uses tar net to predict \n",
    "        # the q_value for different actions and returns action and min q value\n",
    "        x_in = np.tile([x[0], x[1], 0], (self.no_actions, 1))\n",
    "        x_in[:,2] = np.arange(self.no_actions)\n",
    "        torch_x_in = torch.FloatTensor(x_in, device = self.device)\n",
    "        with torch.no_grad():\n",
    "            q_values = self.dq_tar_stepper(torch_x_in).detach().numpy()\n",
    "        return np.argmin(q_values), q_values[np.argmin(q_values)]\n",
    "    \n",
    "    def predict_eps_greedy(self, x, eps = 0.1):\n",
    "        # This function returns prediction based on epsillon greedy algorithm\n",
    "        if np.random.random() > eps:\n",
    "            return self.predict_action_value(x)[0]\n",
    "        else:\n",
    "            return np.random.randint(self.no_actions)\n",
    "        \n",
    "    def optimize(self, mini_batch, tau = 0.001):\n",
    "        # This function performs one step of back propogation for the given mini_batch data\n",
    "        x_in = torch.FloatTensor(mini_batch[:,0:3].copy(), device = self.device)\n",
    "        y_train = torch.FloatTensor(mini_batch[:,3].copy(), device = self.device)\n",
    "        for i in range(len(mini_batch)):\n",
    "            if not np.isnan(mini_batch[i,4:]).all():\n",
    "                if not self.use_tarnet:\n",
    "                    y_train[i] += self.gamma * self.predict_action_value(mini_batch[i,4:])[1]\n",
    "                else:\n",
    "                    y_train[i] += self.gamma * self.tar_predict_action_value(mini_batch[i,4:])[1]\n",
    "\n",
    "        y_train = y_train.unsqueeze(1).detach() #ensures that gradients are not computed on this\n",
    "        x_train = self.dq_stepper(x_in)\n",
    "\n",
    "        loss = F.mse_loss(x_train, y_train)\n",
    "        self.optimizer.zero_grad()\n",
    "        loss.backward()\n",
    "        self.optimizer.step()\n",
    "        \n",
    "        if self.use_tarnet:\n",
    "            for tar_param, param in zip(self.dq_tar_stepper.parameters(), self.dq_stepper.parameters()):\n",
    "                tar_param.data.copy_(tar_param.data * (1.0 - tau) + param.data * tau)\n",
    "                \n",
    "        return loss\n",
    "    \n",
    "    def live_plot(self, history, figsize=(7,5), title='history'):\n",
    "        clear_output(wait=True)\n",
    "        plt.figure(figsize=figsize)\n",
    "        for label,data in history.items():\n",
    "            plt.plot(data, label=label)\n",
    "        plt.title(title)\n",
    "        plt.grid(True)\n",
    "        plt.xlabel('epoch')\n",
    "        plt.legend(loc='top right') # the plot evolves to the right\n",
    "        plt.show();\n",
    "        \n",
    "    def predict_q(self, x):\n",
    "        #for debugging\n",
    "        # this function predicts the q_value for different actions and returns action and min q value\n",
    "        x_in = np.tile([x[0], x[1], 0], (self.no_actions, 1))\n",
    "        x_in[:,2] = np.arange(self.no_actions)\n",
    "        torch_x_in = torch.FloatTensor(x_in, device = self.device)\n",
    "        with torch.no_grad():\n",
    "            q_values = self.dq_stepper(torch_x_in).detach().numpy()\n",
    "        return q_values"
   ]
  },
  {
   "cell_type": "code",
   "execution_count": 16,
   "metadata": {
    "scrolled": true
   },
   "outputs": [
    {
     "data": {
      "image/png": "[encoded data removed]",
      "text/plain": [
       "<Figure size 504x360 with 1 Axes>"
      ]
     },
     "metadata": {
      "needs_background": "light"
     },
     "output_type": "display_data"
    }
   ],
   "source": [
    "## This block is for training the dq stepper\n",
    "buffer_size = 8000\n",
    "buffer = Buffer(buffer_size)\n",
    "\n",
    "dqs = DQStepper(lr=1e-4, gamma=0.98, use_tarnet= True)\n",
    "batch_size = 16\n",
    "epsillon = 0.2\n",
    "\n",
    "e = 1\n",
    "no_epi = 2500\n",
    "no_steps = 10 ## number of steps simulated per episode (pendulum steps)\n",
    "step_time = 0.1 ## time after which step is taken\n",
    "env = LipmEnv(0.2, 0.22, [0, 2, 0])\n",
    "\n",
    "history = {'loss':[], 'epi_cost':[]}\n",
    "while e < no_epi:\n",
    "#     v_init = 0.1*np.random.rand() - 0.05\n",
    "    state = env.reset_env([0.0, 1.], no_steps*step_time)\n",
    "    if buffer.size() == buffer_size:\n",
    "        history['epi_cost'].append(epi_cost)\n",
    "#         history['loss'].append(loss)\n",
    "        dqs.live_plot(history)\n",
    "        e += 1\n",
    "    epi_cost = 0\n",
    "    for n in range(no_steps):\n",
    "        action = dqs.predict_eps_greedy(state, epsillon)\n",
    "        next_state, cost, done = env.step_env(action, step_time)\n",
    "        buffer.store(state, action, cost, next_state, done)\n",
    "        state = next_state\n",
    "        \n",
    "        if buffer.size() == buffer_size:\n",
    "            ## optimizing DQN\n",
    "            loss = dqs.optimize(buffer.sample(batch_size))            \n",
    "            epi_cost += cost\n",
    "        if done:\n",
    "            break\n",
    "        "
   ]
  },
  {
   "cell_type": "code",
   "execution_count": 27,
   "metadata": {},
   "outputs": [
    {
     "name": "stdout",
     "output_type": "stream",
     "text": [
      "[[71.86887 ]\n",
      " [81.38502 ]\n",
      " [44.476566]\n",
      " [41.34524 ]\n",
      " [38.084385]\n",
      " [35.721966]\n",
      " [34.552437]\n",
      " [32.648045]\n",
      " [30.15593 ]]\n"
     ]
    },
    {
     "data": {
      "image/png": "[encoded data removed]",
      "text/plain": [
       "<Figure size 432x288 with 1 Axes>"
      ]
     },
     "metadata": {
      "needs_background": "light"
     },
     "output_type": "display_data"
    }
   ],
   "source": [
    "## visualising the q values\n",
    "q_arr = []\n",
    "q_arr.append(dqs.predict_q([0, 1.0]))\n",
    "print(q_arr[0])\n",
    "\n",
    "q_arr.append(dqs.predict_q([0, -1]))\n",
    "\n",
    "plt.plot(q_arr[0])\n",
    "plt.plot(q_arr[1], 'x')\n",
    "plt.show()"
   ]
  },
  {
   "cell_type": "code",
   "execution_count": 25,
   "metadata": {
    "scrolled": false
   },
   "outputs": [
    {
     "name": "stdout",
     "output_type": "stream",
     "text": [
      "8\n",
      "8\n",
      "71.68732836790943\n",
      "showing simulation...\n"
     ]
    }
   ],
   "source": [
    "state = env.reset_env([0.20, -1.], no_steps*step_time)\n",
    "epi_cost = 0\n",
    "for n in range(no_steps):\n",
    "    action, q_value = dqs.predict_action_value(state)\n",
    "    print(action)\n",
    "    next_state, cost, done = env.step_env(action, step_time)\n",
    "    state = next_state\n",
    "    epi_cost += cost\n",
    "    if done:\n",
    "        print(epi_cost)\n",
    "        break\n",
    "print(\"showing simulation...\")  \n",
    "# env.show_episode(5, 1)"
   ]
  }
 ],
 "metadata": {
  "kernelspec": {
   "display_name": "Python 3",
   "language": "python",
   "name": "python3"
  },
  "language_info": {
   "codemirror_mode": {
    "name": "ipython",
    "version": 3
   },
   "file_extension": ".py",
   "mimetype": "text/x-python",
   "name": "python",
   "nbconvert_exporter": "python",
   "pygments_lexer": "ipython3",
   "version": "3.6.9"
  }
 },
 "nbformat": 4,
 "nbformat_minor": 2
}
