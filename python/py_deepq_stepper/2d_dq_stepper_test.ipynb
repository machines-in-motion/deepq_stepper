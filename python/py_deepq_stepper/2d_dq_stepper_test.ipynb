{
 "cells": [
  {
   "cell_type": "code",
   "execution_count": 1,
   "metadata": {},
   "outputs": [],
   "source": [
    "# This code is to test a trained dq stepper in the 2d case\n",
    "import numpy as np\n",
    "import random\n",
    "\n",
    "import torch\n",
    "import torch.nn as nn\n",
    "import torch.optim as optim\n",
    "import torch.nn.functional as F\n",
    "\n",
    "#for live plotting\n",
    "from IPython.display import clear_output\n",
    "from matplotlib import pyplot as plt\n",
    "%matplotlib inline\n",
    "\n",
    "%run 2d_lipm_env.ipynb #imports LIPM Env\n",
    "from py_bullet_env.bullet_bolt_env import BoltBulletEnv"
   ]
  },
  {
   "cell_type": "code",
   "execution_count": 2,
   "metadata": {},
   "outputs": [],
   "source": [
    "class NN(nn.Module):\n",
    "    def __init__(self, inp_size, out_size):\n",
    "        \n",
    "        super(NN, self).__init__()\n",
    "        n = 1024\n",
    "        self.l1 = nn.Linear(inp_size, n)\n",
    "        self.l2 = nn.Linear(n, n)\n",
    "        self.l3 = nn.Linear(n, n)\n",
    "        self.l4 = nn.Linear(n, n)\n",
    "        self.l5 = nn.Linear(n, n)\n",
    "        self.l6 = nn.Linear(n, n)\n",
    "        self.l7 = nn.Linear(n, out_size)\n",
    "    \n",
    "    def forward(self, x):\n",
    "        \n",
    "        x = F.relu(self.l1(x))\n",
    "        x = F.relu(self.l2(x))\n",
    "        x = F.relu(self.l3(x))\n",
    "        x = F.relu(self.l4(x))\n",
    "        x = F.relu(self.l5(x))\n",
    "        x = F.relu(self.l6(x))\n",
    "        x = self.l7(x)\n",
    "        return x"
   ]
  },
  {
   "cell_type": "code",
   "execution_count": 3,
   "metadata": {},
   "outputs": [],
   "source": [
    "class TwoDQStepper:\n",
    "    def __init__(self, no_actions = [9, 7], lr = 1e-4, gamma = 0.9, use_tarnet = False, trained_model = None):\n",
    "        '''\n",
    "        This is a 2d dq stepper.\n",
    "        State = [x-ux, y - uy, xd, yd, n, action_x, action_y]\n",
    "        '''\n",
    "        self.device = torch.device(\"cpu\")\n",
    "        self.dq_stepper = NN(7, 1).to(self.device) #state+ action -> q_value\n",
    "        if trained_model:\n",
    "            self.dq_stepper.load_state_dict(torch.load(trained_model))\n",
    "            self.dq_stepper.eval()\n",
    "        self.optimizer = torch.optim.SGD(self.dq_stepper.parameters(), lr)\n",
    "        self.use_tarnet = use_tarnet\n",
    "        if self.use_tarnet:\n",
    "            self.dq_tar_stepper = NN(7, 1).to(self.device)\n",
    "            self.dq_tar_stepper.load_state_dict(self.dq_stepper.state_dict())\n",
    "            self.dq_tar_stepper.eval()\n",
    "        self.gamma = gamma #discount factor\n",
    "        assert len(no_actions) == 2\n",
    "        self.no_actions = no_actions\n",
    "        \n",
    "        # This is the template of x_in that goes into the dq stepper\n",
    "        self.x_in = np.zeros((self.no_actions[0]*self.no_actions[1], 7))\n",
    "        self.x_in[:,5] = np.tile(np.arange(self.no_actions[0]), self.no_actions[1])\n",
    "        self.x_in[:,6] = np.repeat(np.arange(self.no_actions[1]), self.no_actions[0])\n",
    "                  \n",
    "    def predict_action_value(self, x):\n",
    "        # this function predicts the q_value for different actions and returns action and min q value\n",
    "        self.x_in[:,[0, 1, 2, 3, 4]] = x\n",
    "        torch_x_in = torch.FloatTensor(self.x_in, device = self.device)\n",
    "        with torch.no_grad():\n",
    "            q_values = self.dq_stepper(torch_x_in).detach().numpy()\n",
    "            action_index = np.argmin(q_values)\n",
    "            action_x = int(action_index%self.no_actions[0])\n",
    "            action_y = int(action_index//self.no_actions[0])\n",
    "        return [action_x, action_y], q_values[action_index]\n",
    "    \n",
    "    def tar_predict_action_value(self, x):\n",
    "        # this function uses tar net to predict \n",
    "        # the q_value for different actions and returns action and min q value\n",
    "        self.x_in[:,[0, 1, 2, 3, 4]] = x\n",
    "        torch_x_in = torch.FloatTensor(self.x_in, device = self.device)\n",
    "        with torch.no_grad():\n",
    "            q_values = self.dq_tar_stepper(torch_x_in).detach().numpy()\n",
    "            action_index = np.argmin(q_values)\n",
    "            action_x = int(action_index%self.no_actions[0])\n",
    "            action_y = int(action_index//self.no_actions[0])\n",
    "        return [action_x, action_y], q_values[action_index]\n",
    "    \n",
    "    def predict_eps_greedy(self, x, eps = 0.1):\n",
    "        # This function returns prediction based on epsillon greedy algorithm\n",
    "        if np.random.random() > eps:\n",
    "            return self.predict_action_value(x)[0]\n",
    "        else:\n",
    "            action_x = np.random.randint(self.no_actions[0])\n",
    "            action_y = np.random.randint(self.no_actions[1])\n",
    "            return [action_x, action_y]\n",
    "        \n",
    "    def optimize(self, mini_batch, tau = 0.001):\n",
    "        # This function performs one step of back propogation for the given mini_batch data\n",
    "        x_in = torch.FloatTensor(mini_batch[:,0:7].copy(), device = self.device)\n",
    "        y_train = torch.FloatTensor(mini_batch[:,7].copy(), device = self.device)\n",
    "        for i in range(len(mini_batch)):\n",
    "            if not np.isnan(mini_batch[i,8:]).all():\n",
    "                if not self.use_tarnet:\n",
    "                    y_train[i] += self.gamma * self.predict_action_value(mini_batch[i,8:])[1]\n",
    "                else:\n",
    "                    y_train[i] += self.gamma * self.tar_predict_action_value(mini_batch[i,8:])[1]\n",
    "\n",
    "        y_train = y_train.unsqueeze(1).detach() #ensures that gradients are not computed on this\n",
    "        x_train = self.dq_stepper(x_in)\n",
    "\n",
    "        loss = F.mse_loss(x_train, y_train)\n",
    "        self.optimizer.zero_grad()\n",
    "        loss.backward()\n",
    "        self.optimizer.step()\n",
    "        \n",
    "        if self.use_tarnet:\n",
    "            for tar_param, param in zip(self.dq_tar_stepper.parameters(), self.dq_stepper.parameters()):\n",
    "                tar_param.data.copy_(tar_param.data * (1.0 - tau) + param.data * tau)\n",
    "                \n",
    "        return loss\n",
    "    \n",
    "    def live_plot(self, history, figsize=(7,5), title='history'):\n",
    "        clear_output(wait=True)\n",
    "        plt.figure(figsize=figsize)\n",
    "        for label,data in history.items():\n",
    "            plt.plot(data, label=label)\n",
    "        plt.title(title)\n",
    "        plt.grid(True)\n",
    "        plt.xlabel('episode')\n",
    "        plt.ylim(0, 200)\n",
    "        plt.legend(loc='top right') # the plot evolves to the right\n",
    "        plt.show();\n",
    "        \n",
    "    def predict_q(self, x):\n",
    "        #for debugging\n",
    "        # this function predicts the q_value for different actions and returns action and min q value\n",
    "        self.x_in[:,[0, 1, 2, 3, 4]] = x\n",
    "        torch_x_in = torch.FloatTensor(self.x_in, device = self.device)\n",
    "        with torch.no_grad():\n",
    "            q_values = self.dq_stepper(torch_x_in).detach().numpy()\n",
    "        return q_values"
   ]
  },
  {
   "cell_type": "code",
   "execution_count": 4,
   "metadata": {},
   "outputs": [
    {
     "name": "stdout",
     "output_type": "stream",
     "text": [
      "[11, 9]\n"
     ]
    }
   ],
   "source": [
    "env = TwoDLipmEnv(0.2, 0.13, 0.22, [1, 2, 0], no_actions= [11, 9])\n",
    "no_actions = [len(env.action_space_x), len(env.action_space_y)]\n",
    "print(no_actions)\n",
    "\n",
    "dqs = TwoDQStepper(lr=1e-4, gamma=0.98, use_tarnet= True, no_actions= no_actions, trained_model='../../models/dqs_2_old')"
   ]
  },
  {
   "cell_type": "code",
   "execution_count": 5,
   "metadata": {},
   "outputs": [
    {
     "data": {
      "image/png": "[encoded data removed]",
      "text/plain": [
       "<Figure size 432x288 with 2 Axes>"
      ]
     },
     "metadata": {
      "needs_background": "light"
     },
     "output_type": "display_data"
    }
   ],
   "source": [
    "# This block is for visualising the output from the dqstepper\n",
    "def plot_heatmap(x1, dqs):\n",
    "    q = dqs.predict_q(x1)\n",
    "    n = dqs.no_actions\n",
    "    q_mat = np.zeros((n[1], n[0]))\n",
    "    for i in range(len(q)):\n",
    "        q_mat[int(dqs.x_in[i,6]), int(dqs.x_in[i,5])] = q[i]\n",
    "    fig, ax = plt.subplots()\n",
    "    heatmap = ax.pcolor(q_mat, cmap='PuBu_r')\n",
    "    fig.colorbar(heatmap, ax=ax)\n",
    "    plt.show()\n",
    "\n",
    "x1 = [0, 0, 0, 0, -1]\n",
    "x2 = [0, 0, 1, 0, -1]\n",
    "\n",
    "plot_heatmap(x1, dqs)\n",
    "# plot_heatmap(x2, dqs)"
   ]
  },
  {
   "cell_type": "code",
   "execution_count": 6,
   "metadata": {},
   "outputs": [
    {
     "name": "stdout",
     "output_type": "stream",
     "text": [
      "[7, 2] 0.7815038737812474 False\n",
      "[2, 1] 1.7255873308024234 False\n",
      "[2, 6] 2.8244356932087866 False\n",
      "[6, 2] 1.136287488027775 False\n",
      "[7, 5] 1.5460381802775096 False\n",
      "[3, 2] 1.190823650568739 False\n",
      "[4, 5] 1.5419278024674188 False\n",
      "[5, 4] 0.87723148053504 False\n",
      "[5, 1] 0.833688133081304 False\n",
      "[3, 3] 1.60682276557263 False\n",
      "[4, 1] 1.014269417979316 False\n",
      "[5, 2] 0.7515363390252026 False\n",
      "[5, 2] 0.6505235579890705 False\n",
      "[4, 2] 0.629703699241855 False\n",
      "[5, 4] 1.3316682126302604 False\n",
      "showing episode...\n"
     ]
    }
   ],
   "source": [
    "# This block animates the stepper \n",
    "no_steps = 15\n",
    "step_time = 0.1\n",
    "v_init = [0.0, 0.0]\n",
    "state = env.reset_env([0.0, 0.0, v_init[0], v_init[1]], no_steps*step_time)\n",
    "epi_cost = 0\n",
    "for n in range(no_steps):\n",
    "    action = dqs.predict_action_value(state)[0]\n",
    "    next_state, cost, done = env.step_env(action, step_time)\n",
    "    print(action, cost, done)\n",
    "    epi_cost += cost\n",
    "    state = next_state\n",
    "    if done:\n",
    "        print(epi_cost)\n",
    "        break\n",
    "print(\"showing episode...\")\n",
    "# env.show_episode(5)"
   ]
  },
  {
   "cell_type": "code",
   "execution_count": 154,
   "metadata": {},
   "outputs": [
    {
     "data": {
      "image/png": "[encoded data removed]",
      "text/plain": [
       "<Figure size 432x288 with 2 Axes>"
      ]
     },
     "metadata": {
      "needs_background": "light"
     },
     "output_type": "display_data"
    },
    {
     "data": {
      "image/png": "[encoded data removed]",
      "text/plain": [
       "<Figure size 432x288 with 2 Axes>"
      ]
     },
     "metadata": {
      "needs_background": "light"
     },
     "output_type": "display_data"
    }
   ],
   "source": [
    "# This block creates the regularizing matrix\n",
    "no_actions = [len(env.action_space_x), len(env.action_space_y)]\n",
    "q_mat = np.zeros((no_actions[1], no_actions[0]))\n",
    "reg_mat = np.zeros((no_actions[1], no_actions[0]))\n",
    "\n",
    "for y in range(reg_mat.shape[0]):\n",
    "    for x in range(reg_mat.shape[1]):\n",
    "        reg_mat[y][x] = np.linalg.norm([env.action_space_x[x], env.action_space_y[y] - env.b])\n",
    "        \n",
    "def plot_reg_heatmap(x1, dqs, w):\n",
    "    q = dqs.predict_q(x1)\n",
    "    n = dqs.no_actions\n",
    "    q_mat = np.zeros((n[1], n[0]))\n",
    "    for i in range(len(q)):\n",
    "        q_mat[int(dqs.x_in[i,6]), int(dqs.x_in[i,5])] = q[i]\n",
    "    q_mat += w*reg_mat\n",
    "    fig, ax = plt.subplots()\n",
    "    heatmap = ax.pcolor(q_mat, cmap='PuBu_r')\n",
    "    fig.colorbar(heatmap, ax=ax)\n",
    "    plt.show()\n",
    "\n",
    "x1 = [0, 0, -1, 0, -1]\n",
    "\n",
    "plot_reg_heatmap(x1, dqs, 0)\n",
    "plot_reg_heatmap(x1, dqs, 50)\n"
   ]
  },
  {
   "cell_type": "code",
   "execution_count": 5,
   "metadata": {},
   "outputs": [],
   "source": [
    "# This block is to test the dq stepper on bolt in pybullet\n",
    "kp = [100, 100, 100]\n",
    "kd = [1, 1, 1]\n",
    "kp_com = [100, 100, 100]\n",
    "kd_com = [2, 2, 30]\n",
    "kp_ang_com = [100, 100, 100]\n",
    "kd_ang_com = [100, 100, 100]\n",
    "\n",
    "step_time = 0.1\n",
    "stance_time = 0.01\n",
    "ht = 0.2\n",
    "\n",
    "bolt_env = BoltBulletEnv(ht, step_time, stance_time, kp, kd, kp_com, kd_com, kp_ang_com, kd_ang_com)"
   ]
  },
  {
   "cell_type": "code",
   "execution_count": 9,
   "metadata": {},
   "outputs": [
    {
     "name": "stdout",
     "output_type": "stream",
     "text": [
      "0.12 0.12\n",
      "0.15 -0.14\n",
      "0.15 0.15000000000000002\n",
      "0.12 -0.13\n",
      "0.08 0.11\n",
      "0.15 -0.16\n",
      "0.0 -0.009999999999999995\n",
      "0.12 -0.07\n",
      "0.04 -0.04000000000000001\n",
      "0.0 0.12000000000000001\n"
     ]
    }
   ],
   "source": [
    "no_steps = 10\n",
    "des_com = [0.0, 0, ht]\n",
    "des_vel = [0, 0, 0]\n",
    "x_ori = [0, 0, 1, 0]\n",
    "x_angvel = [0, 0, 0]\n",
    "\n",
    "x, xd, u, n = bolt_env.reset_env()\n",
    "state = [x[0] - u[0], x[1] - u[1], xd[0], xd[1], n]\n",
    "bolt_env.update_gains([100, 100, 25], [1, 1, 1], [0, 0, 0], kd_com, [50, 50, 50], [50, 50, 50])\n",
    "for i in range(no_steps):\n",
    "    action = dqs.predict_action_value(state)[0]\n",
    "    u_x = env.action_space_x[action[0]] + u[0]\n",
    "    u_y = n*env.action_space_y[action[1]] + u[1]\n",
    "    x, xd, u_new, n = bolt_env.step_env([u_x, u_y], des_com, des_vel, x_ori, x_angvel)\n",
    "    print(env.action_space_y[action[1]], u_new[1] - u[1])\n",
    "    u = u_new\n",
    "    state = [x[0] - u[0], x[1] - u[1], xd[0], xd[1], n]\n"
   ]
  },
  {
   "cell_type": "code",
   "execution_count": 14,
   "metadata": {
    "scrolled": false
   },
   "outputs": [],
   "source": [
    "# stepping with regularizing\n",
    "w = 10.0\n",
    "q_mat = np.zeros((no_actions[1], no_actions[0]))\n",
    "reg_mat = np.zeros((no_actions[1], no_actions[0]))\n",
    "for y in range(reg_mat.shape[0]):\n",
    "    for x in range(reg_mat.shape[1]):\n",
    "        reg_mat[y][x] = np.linalg.norm([env.action_space_x[x], env.action_space_y[y] - env.b])\n",
    "\n",
    "no_steps = 20\n",
    "des_com = [0.0, 0, ht]\n",
    "des_vel = [100000.0, 0, 0]\n",
    "x_ori = [0, 0, 1, 0]\n",
    "x_angvel = [0, 0, 0]\n",
    "\n",
    "x, xd, u, n = bolt_env.reset_env()\n",
    "state = [x[0] - u[0], x[1] - u[1], xd[0], xd[1], n]\n",
    "bolt_env.update_gains([50, 50, 50], [25, 25, 10], [0, 0, 100], [50, 50, 50], [100, 100, 50], [50, 50, 50])\n",
    "\n",
    "for i in range(no_steps):\n",
    "    q = dqs.predict_q(state)\n",
    "    for i in range(len(q)):\n",
    "        q_mat[int(dqs.x_in[i,6]), int(dqs.x_in[i,5])] = q[i]\n",
    "    \n",
    "    q_mat = q_mat + w*reg_mat\n",
    "    # Note : index is swapped because x is cols in q_mat    \n",
    "    action = np.unravel_index(q_mat.argmin(), q_mat.shape)\n",
    "    u_x = env.action_space_x[action[1]] + u[0]\n",
    "    u_y = n*env.action_space_y[action[0]] + u[1]\n",
    "    x, xd, u_new, n = bolt_env.step_env([u_x, u_y], des_com, des_vel, x_ori, x_angvel)\n",
    "#     print(env.action_space_x[action[1]], np.around(u_new[0] - u[0], 2))\n",
    "#     print(-n*env.action_space_y[action[0]], u_new[1] - u[1])\n",
    "    u = u_new\n",
    "    state = [x[0] - u[0], x[1] - u[1], xd[0], xd[1], n]\n"
   ]
  }
 ],
 "metadata": {
  "kernelspec": {
   "display_name": "Python 3",
   "language": "python",
   "name": "python3"
  },
  "language_info": {
   "codemirror_mode": {
    "name": "ipython",
    "version": 3
   },
   "file_extension": ".py",
   "mimetype": "text/x-python",
   "name": "python",
   "nbconvert_exporter": "python",
   "pygments_lexer": "ipython3",
   "version": "3.6.9"
  }
 },
 "nbformat": 4,
 "nbformat_minor": 2
}
