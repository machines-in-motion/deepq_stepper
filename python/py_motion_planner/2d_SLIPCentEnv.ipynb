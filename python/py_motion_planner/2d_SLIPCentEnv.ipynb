{
 "cells": [
  {
   "cell_type": "code",
   "execution_count": 1,
   "metadata": {},
   "outputs": [],
   "source": [
    "## This is an implementation of the 2d SLIP Centroidal dynamics env\n",
    "## to train dq stepper for multi contact\n",
    "## Author : Avadesh Meduri\n",
    "## Date : 11/06/2020\n",
    "\n",
    "import numpy as np\n",
    "import random\n"
   ]
  },
  {
   "cell_type": "code",
   "execution_count": null,
   "metadata": {},
   "outputs": [],
   "source": [
    "'''\n",
    "Implementation of the 2d SLIP Centroidal dynamics env\n",
    "'''\n",
    "\n",
    "class TwoDSLIPCentEnv:\n",
    "    \n",
    "    def __init__(self, h, k, max_step_length, w, no_actions = [11, 9]):\n",
    "        '''\n",
    "        Input:\n",
    "            h : nominal height of the center of mass above the ground\n",
    "            k : spring stiffness in x and y direction\n",
    "            max_step_lenght : maximum step length\n",
    "            w : weights on cost\n",
    "            no_actions : number of actions in x direction\n",
    "        '''\n",
    "        \n",
    "        self.g = 9.81\n",
    "        self.h = h\n",
    "        self.k = k\n",
    "        self.no_actions = no_actions\n",
    "        \n",
    "        assert len(w) == 3\n",
    "        self.w = w\n",
    "        \n",
    "        # robot params\n",
    "        self.base_length = 0.4\n",
    "        self.base_width = 0.17\n",
    "        \n",
    "        self.action_space_x = np.around(np.linspace(-max_step_length, max_step_length, no_actions[0]), 2)\n",
    "        \n",
    "        \n",
    "        "
   ]
  }
 ],
 "metadata": {
  "kernelspec": {
   "display_name": "Python 3",
   "language": "python",
   "name": "python3"
  },
  "language_info": {
   "codemirror_mode": {
    "name": "ipython",
    "version": 3
   },
   "file_extension": ".py",
   "mimetype": "text/x-python",
   "name": "python",
   "nbconvert_exporter": "python",
   "pygments_lexer": "ipython3",
   "version": "3.6.9"
  }
 },
 "nbformat": 4,
 "nbformat_minor": 2
}
