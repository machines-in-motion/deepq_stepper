{
 "cells": [
  {
   "cell_type": "code",
   "execution_count": 1,
   "metadata": {},
   "outputs": [],
   "source": [
    "import numpy as np\n",
    "import gym\n",
    "import random\n",
    "\n",
    "import torch\n",
    "import torch.nn as nn\n",
    "import torch.optim as optim\n",
    "import torch.nn.functional as F"
   ]
  },
  {
   "cell_type": "code",
   "execution_count": 2,
   "metadata": {
    "scrolled": true
   },
   "outputs": [],
   "source": [
    "class Buffer:\n",
    "    def __init__(self, buffer_size):\n",
    "        \n",
    "        self.buffer_size = buffer_size\n",
    "        self.buffer = np.zeros((1, 4 + 1 + 1 + 4)) ## should be made variables\n",
    "        \n",
    "    def size(self):\n",
    "        \n",
    "        return len(self.buffer)\n",
    "    \n",
    "    def store(self, state, action, reward, next_state, done):\n",
    "        \n",
    "        new_data = 9999*np.ones((1, 4 + 1 + 1 + 4))\n",
    "        new_data[0, 0:4] = state\n",
    "        new_data[0, 4:6] = [action, reward]\n",
    "        if not done:\n",
    "            new_data[0, 6:] = next_state \n",
    "        else:\n",
    "            new_data[0, 6:] = [np.nan, np.nan, np.nan, np.nan]\n",
    "        self.buffer = np.concatenate((self.buffer, new_data), axis = 0)\n",
    "        \n",
    "        if np.all(self.buffer[0] == 0):\n",
    "            self.buffer = self.buffer[1:]\n",
    "        \n",
    "        elif self.size() > self.buffer_size:\n",
    "            self.buffer = self.buffer[1:]\n",
    "            \n",
    "    def sample(self, batch_size):\n",
    "        \n",
    "        return np.asarray(random.sample(list(self.buffer), batch_size))"
   ]
  },
  {
   "cell_type": "code",
   "execution_count": 32,
   "metadata": {},
   "outputs": [],
   "source": [
    "class NN:\n",
    "    def __init__(self, inp_size, out_size):\n",
    "        \n",
    "        super(NN, self).__init__()\n",
    "        self.l1 = nn.Linear(inp_size, 128)\n",
    "        self.l2 = nn.Linear(128, 128)\n",
    "        self.l3 = nn.Linear(128, 128)\n",
    "        self.l4 = nn.Linear(128, out_size)\n",
    "    \n",
    "    def forward(self, x):\n",
    "        \n",
    "        x = F.relu(self.l1(x))\n",
    "        x = F.relu(self.l2(x))\n",
    "        x = F.relu(self.l3(x))\n",
    "        x = self.l4(x)\n",
    "        return x\n",
    "\n",
    "class DQN:\n",
    "    \n",
    "    def __init__(self, inp_size, out_size):\n",
    "        self.device = torch.device(\"cpu\")\n",
    "        self.dqn = NN(inp_size, out_size)\n",
    "        \n",
    "    def predict(self, state, action_set):\n",
    "        inp = np.zeros((len(action_set), len(state)+1))\n",
    "        inp[0][0:len(state)] = state\n",
    "        inp[1][0:len(state)] = state\n",
    "        inp[:,len(state)] = action_set\n",
    "        \n",
    "        with torch.no_grad():\n",
    "            inp = torch.FloatTensor(inp, device= self.device)\n",
    "            q_values = self.dqn.forward(inp).detach().numpy()\n",
    "        return np.argmax(q_values), np.max(q_values)\n"
   ]
  },
  {
   "cell_type": "code",
   "execution_count": 37,
   "metadata": {
    "scrolled": true
   },
   "outputs": [
    {
     "name": "stdout",
     "output_type": "stream",
     "text": [
      "[[ 1.43781653e-02  1.56588916e-01  3.05524168e-02 -3.21474253e-01\n",
      "   1.00000000e+00  1.00000000e+00  1.75099436e-02  3.51262761e-01\n",
      "   2.41229317e-02 -6.04367729e-01]\n",
      " [ 1.75099436e-02  3.51262761e-01  2.41229317e-02 -6.04367729e-01\n",
      "   1.00000000e+00  1.00000000e+00  2.45351988e-02  5.46039192e-01\n",
      "   1.20355771e-02 -8.89355918e-01]\n",
      " [ 2.45351988e-02  5.46039192e-01  1.20355771e-02 -8.89355918e-01\n",
      "   1.00000000e+00  1.00000000e+00  3.54559827e-02  7.40995773e-01\n",
      "  -5.75154124e-03 -1.17823123e+00]\n",
      " [ 3.54559827e-02  7.40995773e-01 -5.75154124e-03 -1.17823123e+00\n",
      "   1.00000000e+00  1.00000000e+00  5.02758981e-02  9.36191946e-01\n",
      "  -2.93161659e-02 -1.47271160e+00]\n",
      " [ 5.02758981e-02  9.36191946e-01 -2.93161659e-02 -1.47271160e+00\n",
      "   1.00000000e+00  1.00000000e+00  6.89997371e-02  1.13165978e+00\n",
      "  -5.87703978e-02 -1.77440508e+00]\n",
      " [ 6.89997371e-02  1.13165978e+00 -5.87703978e-02 -1.77440508e+00\n",
      "   1.00000000e+00  1.00000000e+00  9.16329327e-02  1.32739281e+00\n",
      "  -9.42584994e-02 -2.08476629e+00]\n",
      " [ 9.16329327e-02  1.32739281e+00 -9.42584994e-02 -2.08476629e+00\n",
      "   1.00000000e+00  1.00000000e+00  1.18180789e-01  1.52333249e+00\n",
      "  -1.35953825e-01 -2.40504210e+00]\n",
      " [ 1.18180789e-01  1.52333249e+00 -1.35953825e-01 -2.40504210e+00\n",
      "   1.00000000e+00  1.00000000e+00  1.48647439e-01  1.71935195e+00\n",
      "  -1.84054667e-01 -2.73620556e+00]\n",
      " [ 1.48647439e-01  1.71935195e+00 -1.84054667e-01 -2.73620556e+00\n",
      "   1.00000000e+00  1.00000000e+00             nan             nan\n",
      "              nan             nan]\n",
      " [-4.85544142e-02 -4.66611930e-03  4.95547508e-02  2.78343974e-03\n",
      "   1.00000000e+00  1.00000000e+00 -4.86477366e-02  1.89711410e-01\n",
      "   4.96104196e-02 -2.73861797e-01]\n",
      " [-4.86477366e-02  1.89711410e-01  4.96104196e-02 -2.73861797e-01\n",
      "   1.00000000e+00  1.00000000e+00 -4.48535084e-02  3.84091694e-01\n",
      "   4.41331837e-02 -5.50494009e-01]\n",
      " [-4.48535084e-02  3.84091694e-01  4.41331837e-02 -5.50494009e-01\n",
      "   1.00000000e+00  1.00000000e+00 -3.71716745e-02  5.78566878e-01\n",
      "   3.31233035e-02 -8.28951797e-01]\n",
      " [-3.71716745e-02  5.78566878e-01  3.31233035e-02 -8.28951797e-01\n",
      "   1.00000000e+00  1.00000000e+00 -2.56003370e-02  7.73220720e-01\n",
      "   1.65442675e-02 -1.11103593e+00]\n",
      " [-2.56003370e-02  7.73220720e-01  1.65442675e-02 -1.11103593e+00\n",
      "   1.00000000e+00  1.00000000e+00 -1.01359226e-02  9.68121466e-01\n",
      "  -5.67645110e-03 -1.39848325e+00]\n",
      " [-1.01359226e-02  9.68121466e-01 -5.67645110e-03 -1.39848325e+00\n",
      "   1.00000000e+00  1.00000000e+00  9.22650677e-03  1.16331353e+00\n",
      "  -3.36461161e-02 -1.69293550e+00]\n",
      " [ 9.22650677e-03  1.16331353e+00 -3.36461161e-02 -1.69293550e+00\n",
      "   1.00000000e+00  1.00000000e+00  3.24927774e-02  1.35880741e+00\n",
      "  -6.75048260e-02 -1.99590043e+00]\n",
      " [ 3.24927774e-02  1.35880741e+00 -6.75048260e-02 -1.99590043e+00\n",
      "   1.00000000e+00  1.00000000e+00  5.96689256e-02  1.55456721e+00\n",
      "  -1.07422835e-01 -2.30870270e+00]\n",
      " [ 5.96689256e-02  1.55456721e+00 -1.07422835e-01 -2.30870270e+00\n",
      "   1.00000000e+00  1.00000000e+00  9.07602697e-02  1.75049560e+00\n",
      "  -1.53596889e-01 -2.63242281e+00]\n",
      " [ 9.07602697e-02  1.75049560e+00 -1.53596889e-01 -2.63242281e+00\n",
      "   1.00000000e+00  1.00000000e+00  1.25770182e-01  1.94641598e+00\n",
      "  -2.06245345e-01 -2.96782371e+00]\n",
      " [ 1.25770182e-01  1.94641598e+00 -2.06245345e-01 -2.96782371e+00\n",
      "   1.00000000e+00  1.00000000e+00             nan             nan\n",
      "              nan             nan]]\n"
     ]
    }
   ],
   "source": [
    "## training block\n",
    "buffer_size = 100\n",
    "episode_time = 100\n",
    "no_iters = 5\n",
    "\n",
    "dqn = DQN(5,1)\n",
    "lr = 1e-4\n",
    "batch_size = 16\n",
    "\n",
    "env = gym.make('CartPole-v0')\n",
    "buffer = Buffer(buffer_size)\n",
    "\n",
    "for e in range(no_iters):\n",
    "    state = env.reset()\n",
    "    for t in range(episode_time):\n",
    "        #env.render()\n",
    "        action, max_q = dqn.predict(state, [0,1])\n",
    "        next_state, reward, done, _ = env.step(action)\n",
    "        buffer.store(state, action, reward, next_state, done)\n",
    "        state = next_state\n",
    "        \n",
    "        if done:\n",
    "            break\n",
    "            \n",
    "        if buffer.size() < buffer_size - 2:\n",
    "            continue\n",
    "        \n",
    "        mini_batch = buffer.sample(batch_size)\n",
    "        \n",
    "print(buffer.buffer[30:50])"
   ]
  },
  {
   "cell_type": "code",
   "execution_count": 118,
   "metadata": {},
   "outputs": [
    {
     "data": {
      "text/plain": [
       "nan"
      ]
     },
     "execution_count": 118,
     "metadata": {},
     "output_type": "execute_result"
    }
   ],
   "source": []
  }
 ],
 "metadata": {
  "kernelspec": {
   "display_name": "Python 3",
   "language": "python",
   "name": "python3"
  },
  "language_info": {
   "codemirror_mode": {
    "name": "ipython",
    "version": 3
   },
   "file_extension": ".py",
   "mimetype": "text/x-python",
   "name": "python",
   "nbconvert_exporter": "python",
   "pygments_lexer": "ipython3",
   "version": "3.6.9"
  }
 },
 "nbformat": 4,
 "nbformat_minor": 2
}
