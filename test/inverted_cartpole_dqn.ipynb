{
 "cells": [
  {
   "cell_type": "code",
   "execution_count": 1,
   "metadata": {},
   "outputs": [],
   "source": [
    "import numpy as np\n",
    "import gym\n",
    "import random\n",
    "\n",
    "import torch\n",
    "import torch.nn as nn\n",
    "import torch.optim as optim\n",
    "import torch.nn.functional as F"
   ]
  },
  {
   "cell_type": "code",
   "execution_count": 2,
   "metadata": {
    "scrolled": true
   },
   "outputs": [],
   "source": [
    "class Buffer:\n",
    "    def __init__(self, buffer_size):\n",
    "        \n",
    "        self.buffer_size = buffer_size\n",
    "        self.buffer = np.zeros((1, 4 + 1 + 1 + 4)) ## should be made variables\n",
    "        \n",
    "    def size(self):\n",
    "        \n",
    "        return len(self.buffer)\n",
    "    \n",
    "    def store(self, state, action, reward, next_state, done):\n",
    "        \n",
    "        new_data = 9999*np.ones((1, 4 + 1 + 1 + 4))\n",
    "        new_data[0, 0:4] = state\n",
    "        new_data[0, 4:6] = [action, reward]\n",
    "        if not done:\n",
    "            new_data[0, 6:] = next_state \n",
    "        else:\n",
    "            new_data[0, 6:] = [np.nan, np.nan, np.nan, np.nan]\n",
    "        self.buffer = np.concatenate((self.buffer, new_data), axis = 0)\n",
    "        \n",
    "        if np.all(self.buffer[0] == 0):\n",
    "            self.buffer = self.buffer[1:]\n",
    "        \n",
    "        elif self.size() > self.buffer_size:\n",
    "            self.buffer = self.buffer[1:]\n",
    "            \n",
    "    def sample(self, batch_size):\n",
    "        \n",
    "        return np.asarray(random.sample(list(self.buffer), batch_size))"
   ]
  },
  {
   "cell_type": "code",
   "execution_count": 32,
   "metadata": {},
   "outputs": [],
   "source": [
    "class NN:\n",
    "    def __init__(self, inp_size, out_size):\n",
    "        \n",
    "        super(NN, self).__init__()\n",
    "        self.l1 = nn.Linear(inp_size, 128)\n",
    "        self.l2 = nn.Linear(128, 128)\n",
    "        self.l3 = nn.Linear(128, 128)\n",
    "        self.l4 = nn.Linear(128, out_size)\n",
    "    \n",
    "    def forward(self, x):\n",
    "        \n",
    "        x = F.relu(self.l1(x))\n",
    "        x = F.relu(self.l2(x))\n",
    "        x = F.relu(self.l3(x))\n",
    "        x = self.l4(x)\n",
    "        return x\n",
    "\n",
    "class DQN:\n",
    "    \n",
    "    def __init__(self, inp_size, out_size):\n",
    "        self.device = torch.device(\"cpu\")\n",
    "        self.dqn = NN(inp_size, out_size)\n",
    "        \n",
    "    def predict(self, state, action_set):\n",
    "        inp = np.zeros((len(action_set), len(state)+1))\n",
    "        inp[0][0:len(state)] = state\n",
    "        inp[1][0:len(state)] = state\n",
    "        inp[:,len(state)] = action_set\n",
    "        \n",
    "        with torch.no_grad():\n",
    "            inp = torch.FloatTensor(inp, device= self.device)\n",
    "            q_values = self.dqn.forward(inp).detach().numpy()\n",
    "        return np.argmax(q_values), np.max(q_values)\n"
   ]
  },
  {
   "cell_type": "code",
   "execution_count": 1,
   "metadata": {
    "scrolled": true
   },
   "outputs": [
    {
     "ename": "NameError",
     "evalue": "name 'DQN' is not defined",
     "output_type": "error",
     "traceback": [
      "\u001b[0;31m---------------------------------------------------------------------------\u001b[0m",
      "\u001b[0;31mNameError\u001b[0m                                 Traceback (most recent call last)",
      "\u001b[0;32m<ipython-input-1-26d3479b63e2>\u001b[0m in \u001b[0;36m<module>\u001b[0;34m\u001b[0m\n\u001b[1;32m      4\u001b[0m \u001b[0mno_iters\u001b[0m \u001b[0;34m=\u001b[0m \u001b[0;36m5\u001b[0m\u001b[0;34m\u001b[0m\u001b[0;34m\u001b[0m\u001b[0m\n\u001b[1;32m      5\u001b[0m \u001b[0;34m\u001b[0m\u001b[0m\n\u001b[0;32m----> 6\u001b[0;31m \u001b[0mdqn\u001b[0m \u001b[0;34m=\u001b[0m \u001b[0mDQN\u001b[0m\u001b[0;34m(\u001b[0m\u001b[0;36m5\u001b[0m\u001b[0;34m,\u001b[0m\u001b[0;36m1\u001b[0m\u001b[0;34m)\u001b[0m\u001b[0;34m\u001b[0m\u001b[0;34m\u001b[0m\u001b[0m\n\u001b[0m\u001b[1;32m      7\u001b[0m \u001b[0mlr\u001b[0m \u001b[0;34m=\u001b[0m \u001b[0;36m1e-4\u001b[0m\u001b[0;34m\u001b[0m\u001b[0;34m\u001b[0m\u001b[0m\n\u001b[1;32m      8\u001b[0m \u001b[0mbatch_size\u001b[0m \u001b[0;34m=\u001b[0m \u001b[0;36m16\u001b[0m\u001b[0;34m\u001b[0m\u001b[0;34m\u001b[0m\u001b[0m\n",
      "\u001b[0;31mNameError\u001b[0m: name 'DQN' is not defined"
     ]
    }
   ],
   "source": [
    "## training block\n",
    "buffer_size = 100\n",
    "episode_time = 100\n",
    "no_iters = 5\n",
    "\n",
    "dqn = DQN(5,1)\n",
    "lr = 1e-4\n",
    "batch_size = 16\n",
    "\n",
    "env = gym.make('CartPole-v0')\n",
    "buffer = Buffer(buffer_size)\n",
    "\n",
    "for e in range(no_iters):\n",
    "    state = env.reset()\n",
    "    for t in range(episode_time):\n",
    "        #env.render()\n",
    "        action, max_q = dqn.predict(state, [0,1])\n",
    "        next_state, reward, done, _ = env.step(action)\n",
    "        buffer.store(state, action, reward, next_state, done)\n",
    "        state = next_state\n",
    "        \n",
    "        if done:\n",
    "            break\n",
    "            \n",
    "        if buffer.size() < buffer_size - 2:\n",
    "            continue\n",
    "        \n",
    "        mini_batch = buffer.sample(batch_size)\n",
    "        \n",
    "print(buffer.buffer[30:50])"
   ]
  },
  {
   "cell_type": "code",
   "execution_count": 118,
   "metadata": {},
   "outputs": [
    {
     "data": {
      "text/plain": [
       "nan"
      ]
     },
     "execution_count": 118,
     "metadata": {},
     "output_type": "execute_result"
    }
   ],
   "source": []
  }
 ],
 "metadata": {
  "kernelspec": {
   "display_name": "Python 3",
   "language": "python",
   "name": "python3"
  },
  "language_info": {
   "codemirror_mode": {
    "name": "ipython",
    "version": 3
   },
   "file_extension": ".py",
   "mimetype": "text/x-python",
   "name": "python",
   "nbconvert_exporter": "python",
   "pygments_lexer": "ipython3",
   "version": "3.6.9"
  }
 },
 "nbformat": 4,
 "nbformat_minor": 2
}
